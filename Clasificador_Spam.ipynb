{
 "cells": [
  {
   "cell_type": "code",
   "execution_count": 1,
   "id": "ed255cef",
   "metadata": {},
   "outputs": [],
   "source": [
    "# Manejo de datos\n",
    "##Leer CSV\n",
    "import pandas as pd\n",
    "import numpy as np\n",
    "from optparse import OptionParser\n",
    "import sys\n",
    "from time import time\n",
    "# Para procesar los datos \n",
    "import nltk\n",
    "from nltk.corpus import stopwords \n",
    "from nltk.tokenize import word_tokenize\n",
    "\n",
    "#nltk.download('punkt')\n",
    "#nltk.download('stopwords')\n",
    "# Visualizacion\n",
    "import matplotlib.pyplot as plt\n",
    "import seaborn as sns\n",
    "sns.set_style('whitegrid')\n",
    "\n",
    "\n",
    "\n",
    "# ML\n",
    "from sklearn.model_selection import train_test_split\n",
    "from sklearn.ensemble import RandomForestClassifier, GradientBoostingClassifier\n",
    "from xgboost import XGBClassifier\n",
    "from sklearn.naive_bayes import MultinomialNB\n",
    "from sklearn.naive_bayes import ComplementNB\n",
    "from sklearn.naive_bayes import BernoulliNB\n",
    "from sklearn.linear_model import LogisticRegression\n",
    "from sklearn.neighbors import KNeighborsClassifier\n",
    "from sklearn.tree import DecisionTreeClassifier\n",
    "from sklearn.svm import LinearSVC, SVC\n",
    "from time import perf_counter\n",
    "from sklearn.feature_extraction.text import CountVectorizer\n",
    "from sklearn.model_selection import GridSearchCV\n",
    "from sklearn.linear_model import RidgeClassifier\n",
    "from sklearn.pipeline import Pipeline\n",
    "from sklearn.linear_model import SGDClassifier\n",
    "from sklearn.linear_model import Perceptron\n",
    "from sklearn.linear_model import PassiveAggressiveClassifier\n",
    "from sklearn.linear_model import RidgeClassifier\n",
    "from sklearn import metrics\n",
    "from sklearn.utils.extmath import density\n",
    "from sklearn.neighbors import NearestCentroid\n",
    "from sklearn.feature_selection import SelectFromModel\n",
    "\n",
    "\n",
    "# DL\n",
    "from tensorflow.keras.utils import plot_model\n",
    "from tensorflow.keras.models import Sequential\n",
    "\n",
    "#Metricas de precision\n",
    "from sklearn.metrics import accuracy_score, classification_report, confusion_matrix\n",
    "\n",
    "import warnings\n",
    "warnings.filterwarnings(action='ignore')\n",
    "\n",
    "\n",
    "\n",
    "op = OptionParser()\n",
    "\n",
    "\n"
   ]
  },
  {
   "cell_type": "code",
   "execution_count": 2,
   "id": "203a618e-d37d-4ec4-a8ef-ce3ec35cd5f0",
   "metadata": {
    "tags": []
   },
   "outputs": [],
   "source": [
    "##Archivo de lectura\n",
    "df = pd.read_csv('Dataset/spam_ham_dataset.csv')\n",
    "# Quitamos columnas innecesarias\n",
    "df.drop('Unnamed: 0', axis=1, inplace = True)\n",
    "# Cambiamos el nombre de las columnas \n",
    "df.columns = ['etiqueta', 'texto', 'clase']"
   ]
  },
  {
   "cell_type": "code",
   "execution_count": 3,
   "id": "de5e1b60-dca4-42cc-9d23-033ee3030c07",
   "metadata": {},
   "outputs": [
    {
     "data": {
      "text/html": [
       "<div>\n",
       "<style scoped>\n",
       "    .dataframe tbody tr th:only-of-type {\n",
       "        vertical-align: middle;\n",
       "    }\n",
       "\n",
       "    .dataframe tbody tr th {\n",
       "        vertical-align: top;\n",
       "    }\n",
       "\n",
       "    .dataframe thead th {\n",
       "        text-align: right;\n",
       "    }\n",
       "</style>\n",
       "<table border=\"1\" class=\"dataframe\">\n",
       "  <thead>\n",
       "    <tr style=\"text-align: right;\">\n",
       "      <th></th>\n",
       "      <th>etiqueta</th>\n",
       "      <th>texto</th>\n",
       "      <th>clase</th>\n",
       "    </tr>\n",
       "  </thead>\n",
       "  <tbody>\n",
       "    <tr>\n",
       "      <th>0</th>\n",
       "      <td>ham</td>\n",
       "      <td>Subject: enron methanol ; meter # : 988291\\r\\n...</td>\n",
       "      <td>0</td>\n",
       "    </tr>\n",
       "    <tr>\n",
       "      <th>1</th>\n",
       "      <td>ham</td>\n",
       "      <td>Subject: hpl nom for january 9 , 2001\\r\\n( see...</td>\n",
       "      <td>0</td>\n",
       "    </tr>\n",
       "    <tr>\n",
       "      <th>2</th>\n",
       "      <td>ham</td>\n",
       "      <td>Subject: neon retreat\\r\\nho ho ho , we ' re ar...</td>\n",
       "      <td>0</td>\n",
       "    </tr>\n",
       "    <tr>\n",
       "      <th>3</th>\n",
       "      <td>spam</td>\n",
       "      <td>Subject: photoshop , windows , office . cheap ...</td>\n",
       "      <td>1</td>\n",
       "    </tr>\n",
       "    <tr>\n",
       "      <th>4</th>\n",
       "      <td>ham</td>\n",
       "      <td>Subject: re : indian springs\\r\\nthis deal is t...</td>\n",
       "      <td>0</td>\n",
       "    </tr>\n",
       "    <tr>\n",
       "      <th>5</th>\n",
       "      <td>ham</td>\n",
       "      <td>Subject: ehronline web address change\\r\\nthis ...</td>\n",
       "      <td>0</td>\n",
       "    </tr>\n",
       "    <tr>\n",
       "      <th>6</th>\n",
       "      <td>ham</td>\n",
       "      <td>Subject: spring savings certificate - take 30 ...</td>\n",
       "      <td>0</td>\n",
       "    </tr>\n",
       "    <tr>\n",
       "      <th>7</th>\n",
       "      <td>spam</td>\n",
       "      <td>Subject: looking for medication ? we ` re the ...</td>\n",
       "      <td>1</td>\n",
       "    </tr>\n",
       "    <tr>\n",
       "      <th>8</th>\n",
       "      <td>ham</td>\n",
       "      <td>Subject: noms / actual flow for 2 / 26\\r\\nwe a...</td>\n",
       "      <td>0</td>\n",
       "    </tr>\n",
       "    <tr>\n",
       "      <th>9</th>\n",
       "      <td>ham</td>\n",
       "      <td>Subject: nominations for oct . 21 - 23 , 2000\\...</td>\n",
       "      <td>0</td>\n",
       "    </tr>\n",
       "  </tbody>\n",
       "</table>\n",
       "</div>"
      ],
      "text/plain": [
       "  etiqueta                                              texto  clase\n",
       "0      ham  Subject: enron methanol ; meter # : 988291\\r\\n...      0\n",
       "1      ham  Subject: hpl nom for january 9 , 2001\\r\\n( see...      0\n",
       "2      ham  Subject: neon retreat\\r\\nho ho ho , we ' re ar...      0\n",
       "3     spam  Subject: photoshop , windows , office . cheap ...      1\n",
       "4      ham  Subject: re : indian springs\\r\\nthis deal is t...      0\n",
       "5      ham  Subject: ehronline web address change\\r\\nthis ...      0\n",
       "6      ham  Subject: spring savings certificate - take 30 ...      0\n",
       "7     spam  Subject: looking for medication ? we ` re the ...      1\n",
       "8      ham  Subject: noms / actual flow for 2 / 26\\r\\nwe a...      0\n",
       "9      ham  Subject: nominations for oct . 21 - 23 , 2000\\...      0"
      ]
     },
     "execution_count": 3,
     "metadata": {},
     "output_type": "execute_result"
    }
   ],
   "source": [
    "##mostramos cabecera con los datos\n",
    "df.head(10)\n"
   ]
  },
  {
   "cell_type": "code",
   "execution_count": 4,
   "id": "ef7bb634-3e5b-4bf7-831a-9d761c38afef",
   "metadata": {},
   "outputs": [
    {
     "name": "stdout",
     "output_type": "stream",
     "text": [
      "El dataset tiene un total de 5171 E-Mails, pueden categorizarse en ham y spam\n"
     ]
    }
   ],
   "source": [
    "print(f'El dataset tiene un total de {df.shape[0]} E-Mails, pueden categorizarse en ham y spam')"
   ]
  },
  {
   "cell_type": "code",
   "execution_count": 5,
   "id": "27b50a99-c645-46a7-92e0-0cf67b5b369b",
   "metadata": {},
   "outputs": [
    {
     "data": {
      "text/plain": [
       "<AxesSubplot:xlabel='etiqueta', ylabel='count'>"
      ]
     },
     "execution_count": 5,
     "metadata": {},
     "output_type": "execute_result"
    },
    {
     "data": {
      "image/png": "[encoded data removed]",
      "text/plain": [
       "<Figure size 864x432 with 1 Axes>"
      ]
     },
     "metadata": {},
     "output_type": "display_data"
    }
   ],
   "source": [
    "plt.figure(figsize = (12, 6))\n",
    "sns.set_theme(style=\"whitegrid\")\n",
    "\n",
    "sns.countplot(data = df, x = 'etiqueta')"
   ]
  },
  {
   "cell_type": "code",
   "execution_count": 6,
   "id": "decafd12-c340-43c2-8357-f0a522077c4e",
   "metadata": {},
   "outputs": [],
   "source": [
    "#limpiamos los datos\n",
    "\n",
    "stop_words = set(stopwords.words('english')) \n",
    "\n",
    "df['texto'] = df['texto'].apply(lambda x: ' '.join([ word for word in word_tokenize(x)  if not word in stop_words]))"
   ]
  },
  {
   "cell_type": "code",
   "execution_count": 7,
   "id": "46aaeaaa",
   "metadata": {},
   "outputs": [],
   "source": [
    "from nltk.tokenize import RegexpTokenizer\n",
    "\n",
    "def clean_str(string, reg = RegexpTokenizer(r'[a-z]+')):\n",
    "#Limpiamos el texto con RegexpTokenizer\n",
    "    string = string.lower()\n",
    "    tokens = reg.tokenize(string)\n",
    "    return \" \".join(tokens)"
   ]
  },
  {
   "cell_type": "code",
   "execution_count": 8,
   "id": "2e9dbb34",
   "metadata": {},
   "outputs": [
    {
     "data": {
      "text/html": [
       "<div>\n",
       "<style scoped>\n",
       "    .dataframe tbody tr th:only-of-type {\n",
       "        vertical-align: middle;\n",
       "    }\n",
       "\n",
       "    .dataframe tbody tr th {\n",
       "        vertical-align: top;\n",
       "    }\n",
       "\n",
       "    .dataframe thead th {\n",
       "        text-align: right;\n",
       "    }\n",
       "</style>\n",
       "<table border=\"1\" class=\"dataframe\">\n",
       "  <thead>\n",
       "    <tr style=\"text-align: right;\">\n",
       "      <th></th>\n",
       "      <th>etiqueta</th>\n",
       "      <th>texto</th>\n",
       "      <th>clase</th>\n",
       "    </tr>\n",
       "  </thead>\n",
       "  <tbody>\n",
       "    <tr>\n",
       "      <th>0</th>\n",
       "      <td>ham</td>\n",
       "      <td>subject enron methanol meter follow note gave ...</td>\n",
       "      <td>0</td>\n",
       "    </tr>\n",
       "    <tr>\n",
       "      <th>1</th>\n",
       "      <td>ham</td>\n",
       "      <td>subject hpl nom january see attached file hpln...</td>\n",
       "      <td>0</td>\n",
       "    </tr>\n",
       "    <tr>\n",
       "      <th>2</th>\n",
       "      <td>ham</td>\n",
       "      <td>subject neon retreat ho ho ho around wonderful...</td>\n",
       "      <td>0</td>\n",
       "    </tr>\n",
       "    <tr>\n",
       "      <th>3</th>\n",
       "      <td>spam</td>\n",
       "      <td>subject photoshop windows office cheap main tr...</td>\n",
       "      <td>1</td>\n",
       "    </tr>\n",
       "    <tr>\n",
       "      <th>4</th>\n",
       "      <td>ham</td>\n",
       "      <td>subject indian springs deal book teco pvr reve...</td>\n",
       "      <td>0</td>\n",
       "    </tr>\n",
       "  </tbody>\n",
       "</table>\n",
       "</div>"
      ],
      "text/plain": [
       "  etiqueta                                              texto  clase\n",
       "0      ham  subject enron methanol meter follow note gave ...      0\n",
       "1      ham  subject hpl nom january see attached file hpln...      0\n",
       "2      ham  subject neon retreat ho ho ho around wonderful...      0\n",
       "3     spam  subject photoshop windows office cheap main tr...      1\n",
       "4      ham  subject indian springs deal book teco pvr reve...      0"
      ]
     },
     "execution_count": 8,
     "metadata": {},
     "output_type": "execute_result"
    }
   ],
   "source": [
    "df['texto'] = df['texto'].apply(lambda string: clean_str(string))\n",
    "#Mostramos los datos en limpio\n",
    "df.head()\n"
   ]
  },
  {
   "cell_type": "code",
   "execution_count": 9,
   "id": "7220039d-5874-465e-9fe1-ec0cc7edc06f",
   "metadata": {},
   "outputs": [],
   "source": [
    "# Convertir una colección de documentos de texto en una matriz de recuentos de tokens\n",
    "from sklearn.feature_extraction.text import CountVectorizer\n",
    "vectorizador = CountVectorizer()\n",
    "X = vectorizador.fit_transform(df.texto)\n",
    "\n",
    "y = df.etiqueta\n",
    "\n"
   ]
  },
  {
   "cell_type": "code",
   "execution_count": 10,
   "id": "8e818b7f-eca9-4ad7-8e4e-037da831c12a",
   "metadata": {},
   "outputs": [],
   "source": [
    "#Dividir arreglos o matrices en subconjuntos de prueba y entrenamiento aleatorio\n",
    "X_train, X_test, y_train, y_test = train_test_split(X, y, test_size=0.2, random_state=1234, shuffle = True)\n"
   ]
  },
  {
   "cell_type": "code",
   "execution_count": 11,
   "id": "f0717cb4",
   "metadata": {},
   "outputs": [
    {
     "name": "stdout",
     "output_type": "stream",
     "text": [
      "NÚMERO DE OBSERVACIONES: 5171\n",
      "TOKENS: 45595\n"
     ]
    }
   ],
   "source": [
    "print(f\"NÚMERO DE OBSERVACIONES: {X.shape[0]}\\nTOKENS: {X.shape[1]}\")\n"
   ]
  },
  {
   "cell_type": "code",
   "execution_count": 12,
   "id": "704d2152",
   "metadata": {},
   "outputs": [
    {
     "name": "stdout",
     "output_type": "stream",
     "text": [
      "Entrenando:  RidgeClassifier(solver='sag', tol=0.01) Tiempo de entrenamiento 0.3210330009460449 Exactitud 0.8154589371980676\n",
      "\n",
      "Entrenando:  Perceptron(max_iter=50) Tiempo de entrenamiento 0.015958786010742188 Exactitud 0.9739130434782609\n",
      "\n",
      "Entrenando:  PassiveAggressiveClassifier(max_iter=50) Tiempo de entrenamiento 0.0219423770904541 Exactitud 0.970048309178744\n",
      "\n",
      "Entrenando:  KNeighborsClassifier(n_neighbors=10) Tiempo de entrenamiento 0.003995418548583984 Exactitud 0.7971014492753623\n",
      "\n",
      "Entrenando:  RandomForestClassifier() Tiempo de entrenamiento 4.305150508880615 Exactitud 0.9768115942028985\n",
      "\n",
      "Entrenando:  LinearSVC(dual=False, tol=0.001) Tiempo de entrenamiento 0.05586695671081543 Exactitud 0.970048309178744\n",
      "\n",
      "Entrenando:  SGDClassifier(max_iter=50) Tiempo de entrenamiento 0.0 Exactitud 0.9729468599033816\n",
      "\n",
      "Entrenando:  LinearSVC(dual=False, penalty='l1', tol=0.001) Tiempo de entrenamiento 0.16135001182556152 Exactitud 0.966183574879227\n",
      "\n",
      "Entrenando:  SGDClassifier(max_iter=50, penalty='l1') Tiempo de entrenamiento 0.11481738090515137 Exactitud 0.9642512077294686\n",
      "\n",
      "Entrenando:  SGDClassifier(max_iter=50, penalty='elasticnet') Tiempo de entrenamiento 0.03770160675048828 Exactitud 0.9710144927536232\n",
      "\n",
      "Entrenando:  NearestCentroid() Tiempo de entrenamiento 0.0 Exactitud 0.5159420289855072\n",
      "\n",
      "Entrenando:  MultinomialNB(alpha=0.01) Tiempo de entrenamiento 0.021366596221923828 Exactitud 0.9816425120772947\n",
      "\n",
      "Entrenando:  BernoulliNB(alpha=0.01) Tiempo de entrenamiento 0.011967897415161133 Exactitud 0.9246376811594202\n",
      "\n",
      "Entrenando:  ComplementNB(alpha=0.1) Tiempo de entrenamiento 0.012966156005859375 Exactitud 0.978743961352657\n",
      "\n",
      "Entrenando:  Pipeline(steps=[('feature_selection',\n",
      "                 SelectFromModel(estimator=LinearSVC(dual=False, penalty='l1',\n",
      "                                                     tol=0.001))),\n",
      "                ('classification', LinearSVC())]) Tiempo de entrenamiento 0.22739315032958984 Exactitud 0.961352657004831\n",
      "\n"
     ]
    }
   ],
   "source": [
    "def is_interactive():\n",
    "    return not hasattr(sys.modules['__main__'], '__file__')\n",
    "\n",
    "argv = [] if is_interactive() else sys.argv[1:]\n",
    "(opts, args) = op.parse_args(argv)\n",
    "def benchmark(clf):\n",
    "    t0 = time()\n",
    "    clf.fit(X_train, y_train)\n",
    "    train_time = time() - t0\n",
    "\n",
    "    t0 = time()\n",
    "    pred = clf.predict(X_test)\n",
    "    test_time = time() - t0\n",
    "\n",
    "    score = metrics.accuracy_score(y_test, pred)\n",
    "    print(\"Entrenando: \",clf,\"Tiempo de entrenamiento\",train_time,\"Exactitud\",score)\n",
    "   \n",
    "    print()\n",
    "    clf_descr = str(clf).split('(')[0]\n",
    "    return clf_descr, score, train_time, test_time\n",
    "results = []\n",
    "for clf, name in (\n",
    "        (RidgeClassifier(tol=1e-2, solver=\"sag\"), \"Ridge Classifier\"),\n",
    "        (Perceptron(max_iter=50), \"Perceptron\"),\n",
    "        (PassiveAggressiveClassifier(max_iter=50),\n",
    "         \"Passive-Aggressive\"),\n",
    "        (KNeighborsClassifier(n_neighbors=10), \"kNN\"),\n",
    "        (RandomForestClassifier(), \"Random forest\")):\n",
    "    results.append(benchmark(clf))\n",
    "\n",
    "for penalty in [\"l2\", \"l1\"]:\n",
    "    # entrenando Liblinear model\n",
    "    results.append(benchmark(LinearSVC(penalty=penalty, dual=False,\n",
    "                                       tol=1e-3)))\n",
    "\n",
    "    # entrenando SGD model\n",
    "    results.append(benchmark(SGDClassifier(alpha=.0001, max_iter=50,\n",
    "                                           penalty=penalty)))\n",
    "\n",
    "# entrenando SGD con Elastic Net penalty\n",
    "results.append(benchmark(SGDClassifier(alpha=.0001, max_iter=50,\n",
    "                                       penalty=\"elasticnet\")))\n",
    "\n",
    "# entrenando  without threshold\n",
    "results.append(benchmark(NearestCentroid()))\n",
    "\n",
    "#Algoritmos basados en Naive Bayes\n",
    "results.append(benchmark(MultinomialNB(alpha=.01)))\n",
    "results.append(benchmark(BernoulliNB(alpha=.01)))\n",
    "results.append(benchmark(ComplementNB(alpha=.1)))\n",
    "\n",
    "\n",
    "results.append(benchmark(Pipeline([\n",
    "  ('feature_selection', SelectFromModel(LinearSVC(penalty=\"l1\", dual=False,\n",
    "                                                  tol=1e-3))),\n",
    "  ('classification', LinearSVC(penalty=\"l2\"))])))\n",
    "\n"
   ]
  },
  {
   "cell_type": "code",
   "execution_count": 13,
   "id": "e6f13154",
   "metadata": {},
   "outputs": [
    {
     "data": {
      "image/png": "[encoded data removed]",
      "text/plain": [
       "<Figure size 864x576 with 1 Axes>"
      ]
     },
     "metadata": {},
     "output_type": "display_data"
    }
   ],
   "source": [
    "##Crear grafico con los resultados\n",
    "\n",
    "indices = np.arange(len(results))\n",
    "\n",
    "results = [[x[i] for x in results] for i in range(4)]\n",
    "\n",
    "clf_names, score, training_time, test_time = results\n",
    "training_time = np.array(training_time) / np.max(training_time)\n",
    "test_time = np.array(test_time) / np.max(test_time)\n",
    "\n",
    "plt.figure(figsize=(12, 8))\n",
    "plt.title(\"Resultados\")\n",
    "plt.barh(indices, score, .2, label=\"resultado\", color='navy')\n",
    "plt.barh(indices + .3, training_time, .2, label=\"tiempo de entrenamiento\",\n",
    "         color='c')\n",
    "plt.barh(indices + .6, test_time, .2, label=\"entrenamiento de prueba\", color='darkorange')\n",
    "plt.yticks(())\n",
    "plt.legend(loc='best')\n",
    "plt.subplots_adjust(left=.25)\n",
    "plt.subplots_adjust(top=.95)\n",
    "plt.subplots_adjust(bottom=.05)\n",
    "\n",
    "for i, c in zip(indices, clf_names):\n",
    "    plt.text(-.3, i, c)\n",
    "\n",
    "plt.show()"
   ]
  },
  {
   "cell_type": "code",
   "execution_count": 14,
   "id": "968560cf",
   "metadata": {},
   "outputs": [
    {
     "name": "stdout",
     "output_type": "stream",
     "text": [
      "Mejores hyperparametros : {'norm': False, 'fit_prior': True, 'alpha': 0.2}\n",
      "Exactitud : 0.9792074841257323\n"
     ]
    },
    {
     "data": {
      "text/html": [
       "<div>\n",
       "<style scoped>\n",
       "    .dataframe tbody tr th:only-of-type {\n",
       "        vertical-align: middle;\n",
       "    }\n",
       "\n",
       "    .dataframe tbody tr th {\n",
       "        vertical-align: top;\n",
       "    }\n",
       "\n",
       "    .dataframe thead th {\n",
       "        text-align: right;\n",
       "    }\n",
       "</style>\n",
       "<table border=\"1\" class=\"dataframe\">\n",
       "  <thead>\n",
       "    <tr style=\"text-align: right;\">\n",
       "      <th></th>\n",
       "      <th>params</th>\n",
       "      <th>mean_test_score</th>\n",
       "    </tr>\n",
       "  </thead>\n",
       "  <tbody>\n",
       "    <tr>\n",
       "      <th>1</th>\n",
       "      <td>{'norm': False, 'fit_prior': True, 'alpha': 0.2}</td>\n",
       "      <td>0.979207</td>\n",
       "    </tr>\n",
       "    <tr>\n",
       "      <th>7</th>\n",
       "      <td>{'norm': False, 'fit_prior': True, 'alpha': 5}</td>\n",
       "      <td>0.964458</td>\n",
       "    </tr>\n",
       "    <tr>\n",
       "      <th>2</th>\n",
       "      <td>{'norm': False, 'fit_prior': False, 'alpha': 10}</td>\n",
       "      <td>0.945599</td>\n",
       "    </tr>\n",
       "    <tr>\n",
       "      <th>5</th>\n",
       "      <td>{'norm': False, 'fit_prior': True, 'alpha': 10}</td>\n",
       "      <td>0.945599</td>\n",
       "    </tr>\n",
       "    <tr>\n",
       "      <th>6</th>\n",
       "      <td>{'norm': True, 'fit_prior': False, 'alpha': 1}</td>\n",
       "      <td>0.910299</td>\n",
       "    </tr>\n",
       "    <tr>\n",
       "      <th>8</th>\n",
       "      <td>{'norm': True, 'fit_prior': True, 'alpha': 1}</td>\n",
       "      <td>0.910299</td>\n",
       "    </tr>\n",
       "    <tr>\n",
       "      <th>3</th>\n",
       "      <td>{'norm': True, 'fit_prior': True, 'alpha': 2}</td>\n",
       "      <td>0.908607</td>\n",
       "    </tr>\n",
       "    <tr>\n",
       "      <th>4</th>\n",
       "      <td>{'norm': True, 'fit_prior': False, 'alpha': 2}</td>\n",
       "      <td>0.908607</td>\n",
       "    </tr>\n",
       "    <tr>\n",
       "      <th>9</th>\n",
       "      <td>{'norm': True, 'fit_prior': False, 'alpha': 0.2}</td>\n",
       "      <td>0.894825</td>\n",
       "    </tr>\n",
       "    <tr>\n",
       "      <th>0</th>\n",
       "      <td>{'norm': True, 'fit_prior': False, 'alpha': 10}</td>\n",
       "      <td>0.883946</td>\n",
       "    </tr>\n",
       "  </tbody>\n",
       "</table>\n",
       "</div>"
      ],
      "text/plain": [
       "                                             params  mean_test_score\n",
       "1  {'norm': False, 'fit_prior': True, 'alpha': 0.2}         0.979207\n",
       "7    {'norm': False, 'fit_prior': True, 'alpha': 5}         0.964458\n",
       "2  {'norm': False, 'fit_prior': False, 'alpha': 10}         0.945599\n",
       "5   {'norm': False, 'fit_prior': True, 'alpha': 10}         0.945599\n",
       "6    {'norm': True, 'fit_prior': False, 'alpha': 1}         0.910299\n",
       "8     {'norm': True, 'fit_prior': True, 'alpha': 1}         0.910299\n",
       "3     {'norm': True, 'fit_prior': True, 'alpha': 2}         0.908607\n",
       "4    {'norm': True, 'fit_prior': False, 'alpha': 2}         0.908607\n",
       "9  {'norm': True, 'fit_prior': False, 'alpha': 0.2}         0.894825\n",
       "0   {'norm': True, 'fit_prior': False, 'alpha': 10}         0.883946"
      ]
     },
     "execution_count": 14,
     "metadata": {},
     "output_type": "execute_result"
    }
   ],
   "source": [
    "# Busca el mejor hyperparameter con RandomizedSearchCV\n",
    "from sklearn.naive_bayes import ComplementNB\n",
    "from sklearn.model_selection import RandomizedSearchCV\n",
    "parameters = {\"alpha\": [0.2,1,2,5,10], \"fit_prior\": [True, False],\"norm\": [True, False]}\n",
    "\n",
    "grid = RandomizedSearchCV(ComplementNB(), parameters,random_state=0)\n",
    "grid.fit(X_train,y_train)\n",
    "\n",
    "print(\"Mejores hyperparametros :\",grid.best_params_)\n",
    "print(\"Exactitud :\",grid.best_score_)\n",
    "\n",
    "# Crea un DataFrame con el mejor Hyperparameters\n",
    "pd.DataFrame(grid.cv_results_)[['params','mean_test_score']]\\\n",
    "                               .sort_values(by=\"mean_test_score\", ascending=False)"
   ]
  },
  {
   "cell_type": "code",
   "execution_count": 15,
   "id": "62f34a39",
   "metadata": {},
   "outputs": [],
   "source": [
    "# Crea un modelo con hyperparameters\n",
    "from sklearn.naive_bayes import ComplementNB\n",
    "alpha, fit_prior = grid.best_params_['alpha'], grid.best_params_['fit_prior']\n",
    "model = ComplementNB(alpha = alpha)\n",
    "\n",
    "model.fit(X_train,y_train)\n",
    "y_pred = model.predict(X_test)\n",
    "\n"
   ]
  },
  {
   "cell_type": "code",
   "execution_count": 16,
   "id": "0cbfee8d",
   "metadata": {},
   "outputs": [
    {
     "name": "stdout",
     "output_type": "stream",
     "text": [
      "## Exactitud: 97.89999999999999%\n",
      "\n"
     ]
    }
   ],
   "source": [
    "##Enseñamos predicción\n",
    "from sklearn.metrics import classification_report, accuracy_score\n",
    "print(f'## Exactitud: {round(accuracy_score(y_test,y_pred),3)*100}%\\n')"
   ]
  },
  {
   "cell_type": "code",
   "execution_count": 17,
   "id": "f5890d31",
   "metadata": {},
   "outputs": [
    {
     "data": {
      "image/png": "[encoded data removed]",
      "text/plain": [
       "<Figure size 432x288 with 1 Axes>"
      ]
     },
     "metadata": {},
     "output_type": "display_data"
    }
   ],
   "source": [
    "cmat = confusion_matrix(y_test, y_pred)\n",
    "grafica=sns.heatmap(cmat, annot = True, cmap = 'Pastel1', cbar = False, fmt=\"d\", xticklabels=['No Spam', 'Spam'], yticklabels=['No Spam', 'Spam'])\n",
    "\n",
    "grafica.set(xlabel='Verdaderos', ylabel='Predicciones')\n",
    "plt.show()"
   ]
  },
  {
   "cell_type": "code",
   "execution_count": 18,
   "id": "fe580c04",
   "metadata": {},
   "outputs": [],
   "source": [
    "def mostar_resultado(df, number=2):\n",
    "    for i in range(number):\n",
    "        msg = df['texto'].iloc[i]\n",
    "        label = df[\"etiqueta\"].iloc[i]\n",
    "        msg_vec = vectorizador.transform([msg])\n",
    "        pred_label = model.predict(msg_vec)\n",
    "        print(f\"**Real: {label}, Prediccion: {pred_label[0]}**\")\n",
    "    \n",
    "\n"
   ]
  },
  {
   "cell_type": "code",
   "execution_count": 19,
   "id": "4b8a43f5",
   "metadata": {},
   "outputs": [
    {
     "name": "stdout",
     "output_type": "stream",
     "text": [
      "**Real: spam, Prediccion: spam**\n",
      "**Real: spam, Prediccion: spam**\n",
      "**Real: ham, Prediccion: ham**\n",
      "**Real: ham, Prediccion: ham**\n"
     ]
    }
   ],
   "source": [
    "df_spam = df[(df['etiqueta'] == 'spam') & (df['clase'] == 1) ]\n",
    "df_ham = df[(df['etiqueta'] == 'ham') & (df['clase'] == 0) ]\n",
    "mostar_resultado(df_spam)\n",
    "mostar_resultado(df_ham)"
   ]
  },
  {
   "cell_type": "code",
   "execution_count": 20,
   "id": "f5ec848d",
   "metadata": {},
   "outputs": [],
   "source": [
    "from keras.models import Sequential\n",
    "from keras import layers\n",
    "from keras.layers import Dense\n",
    "\n",
    "\n",
    "##Capa visible 1 entrada \n",
    "input_dim = 1\n",
    "model_red = Sequential()\n",
    "model_red.add(layers.Dense(16, input_dim=input_dim, activation='relu'))\n",
    "model_red.add(Dense(8, activation='relu'))\n",
    "model_red.add(layers.Dense(1, activation='sigmoid'))\n"
   ]
  },
  {
   "cell_type": "code",
   "execution_count": 21,
   "id": "b1f689a4",
   "metadata": {},
   "outputs": [
    {
     "name": "stdout",
     "output_type": "stream",
     "text": [
      "Model: \"sequential\"\n",
      "_________________________________________________________________\n",
      "Layer (type)                 Output Shape              Param #   \n",
      "=================================================================\n",
      "dense (Dense)                (None, 16)                32        \n",
      "_________________________________________________________________\n",
      "dense_1 (Dense)              (None, 8)                 136       \n",
      "_________________________________________________________________\n",
      "dense_2 (Dense)              (None, 1)                 9         \n",
      "=================================================================\n",
      "Total params: 177\n",
      "Trainable params: 177\n",
      "Non-trainable params: 0\n",
      "_________________________________________________________________\n"
     ]
    }
   ],
   "source": [
    "model_red.compile(loss='binary_crossentropy', \n",
    "              optimizer='adamax', \n",
    "              metrics=['accuracy'])\n",
    "model_red.summary()"
   ]
  },
  {
   "cell_type": "code",
   "execution_count": 22,
   "id": "957aa099",
   "metadata": {},
   "outputs": [],
   "source": [
    "Xt = df.texto\n",
    "\n",
    "y = df.etiqueta\n",
    "\n",
    "from sklearn.preprocessing import LabelEncoder\n",
    "label_encoder = LabelEncoder()\n",
    "\n",
    "X1 = np.array(label_encoder.fit_transform(Xt))\n",
    "y1 = np.array(label_encoder.fit_transform(y))\n",
    "\n",
    "\n"
   ]
  },
  {
   "cell_type": "code",
   "execution_count": 23,
   "id": "e348c4ab",
   "metadata": {},
   "outputs": [],
   "source": [
    "X_train1, X_test1, y_train1, y_test1 = train_test_split(X1, y1, test_size=0.20, random_state=11)\n",
    "\n",
    "\n"
   ]
  },
  {
   "cell_type": "code",
   "execution_count": 24,
   "id": "ea1d3fe6",
   "metadata": {},
   "outputs": [],
   "source": [
    "X_train1=np.array(X_train1)\n",
    "y_train1=np.array(y_train1)\n"
   ]
  },
  {
   "cell_type": "code",
   "execution_count": 25,
   "id": "d6fed180",
   "metadata": {},
   "outputs": [
    {
     "name": "stdout",
     "output_type": "stream",
     "text": [
      "predictions shape: (4136, 1)\n"
     ]
    }
   ],
   "source": [
    "history = model_red.fit(X_train1, \n",
    "                        y_train1,\n",
    "                    epochs=1500,\n",
    "                    verbose=False,\n",
    "                    validation_data=(X_test1, y_test1),\n",
    "                    batch_size=10)\n",
    "\n",
    "prediccion=model_red.predict(X_train1)\n",
    "\n",
    "print(\"predictions shape:\", prediccion.shape)"
   ]
  },
  {
   "cell_type": "code",
   "execution_count": 26,
   "id": "ffb809e9",
   "metadata": {},
   "outputs": [
    {
     "name": "stdout",
     "output_type": "stream",
     "text": [
      "Precisión Entrenamiento: 0.7140\n",
      "Precisión Prueba:  0.7217\n"
     ]
    }
   ],
   "source": [
    "loss, accuracy = model_red.evaluate(X_train1, y_train1, verbose=False)\n",
    "print(\"Precisión Entrenamiento: {:.4f}\".format(accuracy))\n",
    "loss, accuracy = model_red.evaluate(X_test1, y_test1, verbose=False)\n",
    "print(\"Precisión Prueba:  {:.4f}\".format(accuracy))\n"
   ]
  },
  {
   "cell_type": "code",
   "execution_count": 27,
   "id": "43ec4673",
   "metadata": {},
   "outputs": [
    {
     "name": "stdout",
     "output_type": "stream",
     "text": [
      "130/130 [==============================] - 0s 417us/step - loss: 0.5970 - accuracy: 0.7140\n",
      "\n",
      "accuracy: 71.40%\n"
     ]
    }
   ],
   "source": [
    "# evalua el modelo\n",
    "scores = model_red.evaluate(X_train1, y_train1)\n",
    "print(\"\\n%s: %.2f%%\" % (model_red.metrics_names[1], scores[1]*100))"
   ]
  },
  {
   "cell_type": "code",
   "execution_count": 28,
   "id": "b97c6053",
   "metadata": {},
   "outputs": [],
   "source": [
    "import matplotlib.pyplot as plt\n",
    "plt.style.use('ggplot') \n",
    "\n",
    "\n",
    "def plot_history(history):\n",
    "    acc = history.history['accuracy']\n",
    "    val_acc = history.history['val_accuracy']\n",
    "    loss = history.history['loss']\n",
    "    val_loss = history.history['val_loss']\n",
    "    x = range(1, len(acc) + 1)\n",
    "    plt.figure(figsize=(12, 5))\n",
    "    plt.subplot(1, 2, 1)\n",
    "    plt.plot(x, acc, 'b', label='Entrenamiento prec')\n",
    "    plt.plot(x, val_acc, 'r', label='Validacion prec')\n",
    "    plt.title('Precision Entrenamiento y validacion')\n",
    "    plt.legend()\n",
    "    plt.subplot(1, 2, 2)\n",
    "    plt.plot(x, loss, 'b', label='Perdida Entrenamiento')\n",
    "    plt.plot(x, val_loss, 'r', label='Perdida Validacion')\n",
    "    plt.title('Perdida Entrenamiento y validacion')\n",
    "    plt.legend()\n",
    "    plt.show()"
   ]
  },
  {
   "cell_type": "code",
   "execution_count": 29,
   "id": "ddbd8088",
   "metadata": {},
   "outputs": [
    {
     "data": {
      "image/png": "[encoded data removed]",
      "text/plain": [
       "<Figure size 864x360 with 2 Axes>"
      ]
     },
     "metadata": {},
     "output_type": "display_data"
    }
   ],
   "source": [
    "plot_history(history)\n"
   ]
  },
  {
   "cell_type": "code",
   "execution_count": 30,
   "id": "5568388a",
   "metadata": {},
   "outputs": [
    {
     "name": "stdout",
     "output_type": "stream",
     "text": [
      "## Exactitud ComplementNB: 97.89999999999999%\n",
      "\n",
      "## Exactitud red neuronal: ('accuracy', 71.39748334884644)%\n",
      "\n",
      "\n",
      "accuracy: 71.40%\n"
     ]
    }
   ],
   "source": [
    "print(f'## Exactitud ComplementNB: {round(accuracy_score(y_test,y_pred),3)*100}%\\n')\n",
    "print(f'## Exactitud red neuronal: {(model_red.metrics_names[1], scores[1]*100)}%\\n')\n",
    "print(\"\\n%s: %.2f%%\" % (model_red.metrics_names[1], scores[1]*100))"
   ]
  },
  {
   "cell_type": "code",
   "execution_count": 31,
   "id": "95fb07f2",
   "metadata": {},
   "outputs": [],
   "source": [
    "df_spam.to_csv('Dataset/leidos_spam.csv', sep='\\t')"
   ]
  }
 ],
 "metadata": {
  "kernelspec": {
   "display_name": "Python 3",
   "language": "python",
   "name": "python3"
  },
  "language_info": {
   "codemirror_mode": {
    "name": "ipython",
    "version": 3
   },
   "file_extension": ".py",
   "mimetype": "text/x-python",
   "name": "python",
   "nbconvert_exporter": "python",
   "pygments_lexer": "ipython3",
   "version": "3.8.8"
  }
 },
 "nbformat": 4,
 "nbformat_minor": 5
}
