{
 "cells": [
  {
   "cell_type": "code",
   "execution_count": 1,
   "id": "ed255cef",
   "metadata": {},
   "outputs": [],
   "source": [
    "# Manejo de datos\n",
    "##Leer CSV\n",
    "import pandas as pd\n",
    "import numpy as np\n",
    "\n",
    "# Para procesar los datos \n",
    "import nltk\n",
    "from nltk.corpus import stopwords \n",
    "from nltk.tokenize import word_tokenize\n",
    "\n",
    "#nltk.download('punkt')\n",
    "#nltk.download('stopwords')\n",
    "# Visualizacion\n",
    "import matplotlib.pyplot as plt\n",
    "import seaborn as sns\n",
    "sns.set_style('whitegrid')\n",
    "\n",
    "\n",
    "\n",
    "# ML\n",
    "from sklearn.model_selection import train_test_split\n",
    "from sklearn.ensemble import RandomForestClassifier, GradientBoostingClassifier\n",
    "from xgboost import XGBClassifier\n",
    "from sklearn.naive_bayes import MultinomialNB\n",
    "from sklearn.naive_bayes import ComplementNB\n",
    "from sklearn.naive_bayes import BernoulliNB\n",
    "from sklearn.linear_model import LogisticRegression\n",
    "from sklearn.neighbors import KNeighborsClassifier\n",
    "from sklearn.tree import DecisionTreeClassifier\n",
    "from sklearn.svm import LinearSVC, SVC\n",
    "from time import perf_counter\n",
    "from sklearn.feature_extraction.text import CountVectorizer\n",
    "from sklearn.linear_model import LogisticRegression\n",
    "from sklearn.model_selection import GridSearchCV\n",
    "\n",
    "# DL\n",
    "from tensorflow.keras.utils import plot_model\n",
    "from tensorflow.keras.models import Sequential\n",
    "\n",
    "#Metricas de precision\n",
    "from sklearn.metrics import accuracy_score, classification_report, confusion_matrix\n",
    "\n",
    "import warnings\n",
    "warnings.filterwarnings(action='ignore')\n"
   ]
  },
  {
   "cell_type": "code",
   "execution_count": 2,
   "id": "203a618e-d37d-4ec4-a8ef-ce3ec35cd5f0",
   "metadata": {
    "tags": []
   },
   "outputs": [],
   "source": [
    "##Archivo de lectura\n",
    "df = pd.read_csv('Dataset/spam_ham_dataset.csv')\n",
    "# Quitamos columnas innecesarias\n",
    "df.drop('Unnamed: 0', axis=1, inplace = True)\n",
    "# Cambiamos el nombre de las columnas \n",
    "df.columns = ['etiqueta', 'texto', 'clase']"
   ]
  },
  {
   "cell_type": "code",
   "execution_count": 3,
   "id": "de5e1b60-dca4-42cc-9d23-033ee3030c07",
   "metadata": {},
   "outputs": [
    {
     "data": {
      "text/html": [
       "<div>\n",
       "<style scoped>\n",
       "    .dataframe tbody tr th:only-of-type {\n",
       "        vertical-align: middle;\n",
       "    }\n",
       "\n",
       "    .dataframe tbody tr th {\n",
       "        vertical-align: top;\n",
       "    }\n",
       "\n",
       "    .dataframe thead th {\n",
       "        text-align: right;\n",
       "    }\n",
       "</style>\n",
       "<table border=\"1\" class=\"dataframe\">\n",
       "  <thead>\n",
       "    <tr style=\"text-align: right;\">\n",
       "      <th></th>\n",
       "      <th>etiqueta</th>\n",
       "      <th>texto</th>\n",
       "      <th>clase</th>\n",
       "    </tr>\n",
       "  </thead>\n",
       "  <tbody>\n",
       "    <tr>\n",
       "      <th>0</th>\n",
       "      <td>ham</td>\n",
       "      <td>Subject: enron methanol ; meter # : 988291\\r\\n...</td>\n",
       "      <td>0</td>\n",
       "    </tr>\n",
       "    <tr>\n",
       "      <th>1</th>\n",
       "      <td>ham</td>\n",
       "      <td>Subject: hpl nom for january 9 , 2001\\r\\n( see...</td>\n",
       "      <td>0</td>\n",
       "    </tr>\n",
       "    <tr>\n",
       "      <th>2</th>\n",
       "      <td>ham</td>\n",
       "      <td>Subject: neon retreat\\r\\nho ho ho , we ' re ar...</td>\n",
       "      <td>0</td>\n",
       "    </tr>\n",
       "    <tr>\n",
       "      <th>3</th>\n",
       "      <td>spam</td>\n",
       "      <td>Subject: photoshop , windows , office . cheap ...</td>\n",
       "      <td>1</td>\n",
       "    </tr>\n",
       "    <tr>\n",
       "      <th>4</th>\n",
       "      <td>ham</td>\n",
       "      <td>Subject: re : indian springs\\r\\nthis deal is t...</td>\n",
       "      <td>0</td>\n",
       "    </tr>\n",
       "    <tr>\n",
       "      <th>5</th>\n",
       "      <td>ham</td>\n",
       "      <td>Subject: ehronline web address change\\r\\nthis ...</td>\n",
       "      <td>0</td>\n",
       "    </tr>\n",
       "    <tr>\n",
       "      <th>6</th>\n",
       "      <td>ham</td>\n",
       "      <td>Subject: spring savings certificate - take 30 ...</td>\n",
       "      <td>0</td>\n",
       "    </tr>\n",
       "    <tr>\n",
       "      <th>7</th>\n",
       "      <td>spam</td>\n",
       "      <td>Subject: looking for medication ? we ` re the ...</td>\n",
       "      <td>1</td>\n",
       "    </tr>\n",
       "    <tr>\n",
       "      <th>8</th>\n",
       "      <td>ham</td>\n",
       "      <td>Subject: noms / actual flow for 2 / 26\\r\\nwe a...</td>\n",
       "      <td>0</td>\n",
       "    </tr>\n",
       "    <tr>\n",
       "      <th>9</th>\n",
       "      <td>ham</td>\n",
       "      <td>Subject: nominations for oct . 21 - 23 , 2000\\...</td>\n",
       "      <td>0</td>\n",
       "    </tr>\n",
       "  </tbody>\n",
       "</table>\n",
       "</div>"
      ],
      "text/plain": [
       "  etiqueta                                              texto  clase\n",
       "0      ham  Subject: enron methanol ; meter # : 988291\\r\\n...      0\n",
       "1      ham  Subject: hpl nom for january 9 , 2001\\r\\n( see...      0\n",
       "2      ham  Subject: neon retreat\\r\\nho ho ho , we ' re ar...      0\n",
       "3     spam  Subject: photoshop , windows , office . cheap ...      1\n",
       "4      ham  Subject: re : indian springs\\r\\nthis deal is t...      0\n",
       "5      ham  Subject: ehronline web address change\\r\\nthis ...      0\n",
       "6      ham  Subject: spring savings certificate - take 30 ...      0\n",
       "7     spam  Subject: looking for medication ? we ` re the ...      1\n",
       "8      ham  Subject: noms / actual flow for 2 / 26\\r\\nwe a...      0\n",
       "9      ham  Subject: nominations for oct . 21 - 23 , 2000\\...      0"
      ]
     },
     "execution_count": 3,
     "metadata": {},
     "output_type": "execute_result"
    }
   ],
   "source": [
    "##mostramos cabecera con los datos\n",
    "df.head(10)\n"
   ]
  },
  {
   "cell_type": "code",
   "execution_count": 4,
   "id": "ef7bb634-3e5b-4bf7-831a-9d761c38afef",
   "metadata": {},
   "outputs": [
    {
     "name": "stdout",
     "output_type": "stream",
     "text": [
      "El dataset tiene un total de 5171 E-Mails, pueden categorizarse en ham y spam\n"
     ]
    }
   ],
   "source": [
    "print(f'El dataset tiene un total de {df.shape[0]} E-Mails, pueden categorizarse en ham y spam')"
   ]
  },
  {
   "cell_type": "code",
   "execution_count": 5,
   "id": "27b50a99-c645-46a7-92e0-0cf67b5b369b",
   "metadata": {},
   "outputs": [
    {
     "data": {
      "image/png": "[encoded data removed]",
      "text/plain": [
       "<Figure size 864x432 with 1 Axes>"
      ]
     },
     "metadata": {},
     "output_type": "display_data"
    }
   ],
   "source": [
    "plt.figure(figsize = (12, 6))\n",
    "sns.countplot(data = df, x = 'etiqueta');"
   ]
  },
  {
   "cell_type": "code",
   "execution_count": 6,
   "id": "decafd12-c340-43c2-8357-f0a522077c4e",
   "metadata": {},
   "outputs": [],
   "source": [
    "from nltk.tokenize import RegexpTokenizer\n",
    "\n",
    "def clean_str(string, reg = RegexpTokenizer(r'[a-z]+')):\n",
    "    string = string.lower()\n",
    "    tokens = reg.tokenize(string)\n",
    "    return \" \".join(tokens)"
   ]
  },
  {
   "cell_type": "code",
   "execution_count": 7,
   "id": "46aaeaaa",
   "metadata": {},
   "outputs": [],
   "source": [
    "\n",
    "#limpiamos los datos\n",
    "\n",
    "stop_words = set(stopwords.words('english')) \n",
    "\n",
    "df['texto'] = df['texto'].apply(lambda x: ' '.join([ word for word in word_tokenize(x)  if not word in stop_words]))"
   ]
  },
  {
   "cell_type": "code",
   "execution_count": 8,
   "id": "2e9dbb34",
   "metadata": {},
   "outputs": [
    {
     "data": {
      "text/html": [
       "<div>\n",
       "<style scoped>\n",
       "    .dataframe tbody tr th:only-of-type {\n",
       "        vertical-align: middle;\n",
       "    }\n",
       "\n",
       "    .dataframe tbody tr th {\n",
       "        vertical-align: top;\n",
       "    }\n",
       "\n",
       "    .dataframe thead th {\n",
       "        text-align: right;\n",
       "    }\n",
       "</style>\n",
       "<table border=\"1\" class=\"dataframe\">\n",
       "  <thead>\n",
       "    <tr style=\"text-align: right;\">\n",
       "      <th></th>\n",
       "      <th>etiqueta</th>\n",
       "      <th>texto</th>\n",
       "      <th>clase</th>\n",
       "    </tr>\n",
       "  </thead>\n",
       "  <tbody>\n",
       "    <tr>\n",
       "      <th>0</th>\n",
       "      <td>ham</td>\n",
       "      <td>subject enron methanol meter follow note gave ...</td>\n",
       "      <td>0</td>\n",
       "    </tr>\n",
       "    <tr>\n",
       "      <th>1</th>\n",
       "      <td>ham</td>\n",
       "      <td>subject hpl nom january see attached file hpln...</td>\n",
       "      <td>0</td>\n",
       "    </tr>\n",
       "    <tr>\n",
       "      <th>2</th>\n",
       "      <td>ham</td>\n",
       "      <td>subject neon retreat ho ho ho around wonderful...</td>\n",
       "      <td>0</td>\n",
       "    </tr>\n",
       "    <tr>\n",
       "      <th>3</th>\n",
       "      <td>spam</td>\n",
       "      <td>subject photoshop windows office cheap main tr...</td>\n",
       "      <td>1</td>\n",
       "    </tr>\n",
       "    <tr>\n",
       "      <th>4</th>\n",
       "      <td>ham</td>\n",
       "      <td>subject indian springs deal book teco pvr reve...</td>\n",
       "      <td>0</td>\n",
       "    </tr>\n",
       "  </tbody>\n",
       "</table>\n",
       "</div>"
      ],
      "text/plain": [
       "  etiqueta                                              texto  clase\n",
       "0      ham  subject enron methanol meter follow note gave ...      0\n",
       "1      ham  subject hpl nom january see attached file hpln...      0\n",
       "2      ham  subject neon retreat ho ho ho around wonderful...      0\n",
       "3     spam  subject photoshop windows office cheap main tr...      1\n",
       "4      ham  subject indian springs deal book teco pvr reve...      0"
      ]
     },
     "execution_count": 8,
     "metadata": {},
     "output_type": "execute_result"
    }
   ],
   "source": [
    "df['texto'] = df['texto'].apply(lambda string: clean_str(string))\n",
    "#Mostramos los datos en limpio\n",
    "df.head()\n"
   ]
  },
  {
   "cell_type": "code",
   "execution_count": 9,
   "id": "7220039d-5874-465e-9fe1-ec0cc7edc06f",
   "metadata": {},
   "outputs": [],
   "source": [
    "# Convertir una colección de documentos de texto en una matriz de recuentos de tokens\n",
    "from sklearn.feature_extraction.text import CountVectorizer\n",
    "cv = CountVectorizer()\n",
    "X = cv.fit_transform(df.texto)\n",
    "\n",
    "y = df.etiqueta\n",
    "\n"
   ]
  },
  {
   "cell_type": "code",
   "execution_count": 10,
   "id": "8e818b7f-eca9-4ad7-8e4e-037da831c12a",
   "metadata": {},
   "outputs": [
    {
     "name": "stdout",
     "output_type": "stream",
     "text": [
      "Tren de entrenamiento: (4136, 45595)\n",
      "Tren de prueba: (1035, 45595)\n"
     ]
    }
   ],
   "source": [
    "#Dividir arreglos o matrices en subconjuntos de prueba y tren aleatorio\n",
    "X_train, X_test, y_train, y_test = train_test_split(X, y, test_size=0.2, random_state=1234, shuffle = True)\n",
    "\n",
    "print(f\"Tren de entrenamiento: {X_train.shape}\\nTren de prueba: {X_test.shape}\")\n"
   ]
  },
  {
   "cell_type": "code",
   "execution_count": 11,
   "id": "f0717cb4",
   "metadata": {},
   "outputs": [
    {
     "name": "stdout",
     "output_type": "stream",
     "text": [
      "NÚMERO DE OBSERVACIONES: 5171\n",
      "TOKENS: 45595\n"
     ]
    }
   ],
   "source": [
    "print(f\"NÚMERO DE OBSERVACIONES: {X.shape[0]}\\nTOKENS: {X.shape[1]}\")\n"
   ]
  },
  {
   "cell_type": "code",
   "execution_count": 12,
   "id": "6bf9176b",
   "metadata": {},
   "outputs": [
    {
     "name": "stdout",
     "output_type": "stream",
     "text": [
      "Random Forest        Entrenado en 8.13 sec\n",
      "Gradient Boosting    Entrenado en 34.35 sec\n",
      "XGBoost              Entrenado en 7.0 sec\n",
      "MultinomialNB        Entrenado en 0.03 sec\n",
      "ComplementNB         Entrenado en 0.02 sec\n",
      "BernoulliNB          Entrenado en 0.02 sec\n",
      "Logistic Regr.       Entrenado en 0.94 sec\n",
      "KNN                  Entrenado en 0.01 sec\n",
      "Decision Tree        Entrenado en 1.48 sec\n",
      "SVM (Linear)         Entrenado en 0.27 sec\n",
      "SVM (RBF)            Entrenado en 4.62 sec\n"
     ]
    }
   ],
   "source": [
    "models = {\n",
    "    \"Random Forest\": {\"model\":RandomForestClassifier(), \"perf\":0},\n",
    "    \"Gradient Boosting\": {\"model\":GradientBoostingClassifier(), \"perf\":0},\n",
    "    \"XGBoost\": {\"model\":XGBClassifier(eval_metric='mlogloss'), \"perf\":0},\n",
    "    \"MultinomialNB\": {\"model\":MultinomialNB(), \"perf\":0},\n",
    "    \"ComplementNB\": {\"model\":ComplementNB(), \"perf\":0},  \n",
    "    \"BernoulliNB\": {\"model\":BernoulliNB(), \"perf\":0},\n",
    "    \"Logistic Regr.\": {\"model\":LogisticRegression(), \"perf\":0},\n",
    "    \"KNN\": {\"model\":KNeighborsClassifier(), \"perf\":0},\n",
    "    \"Decision Tree\": {\"model\":DecisionTreeClassifier(), \"perf\":0},\n",
    "    \"SVM (Linear)\": {\"model\":LinearSVC(), \"perf\":0},\n",
    "    \"SVM (RBF)\": {\"model\":SVC(), \"perf\":0}\n",
    "}\n",
    "\n",
    "for name, model in models.items():\n",
    "    start = perf_counter()\n",
    "    model['model'].fit(X_train, y_train)\n",
    "    duration = perf_counter() - start\n",
    "    duration = round(duration,2)\n",
    "    model[\"perf\"] = duration\n",
    "    print(f\"{name:20} Entrenado en {duration} sec\")"
   ]
  },
  {
   "cell_type": "code",
   "execution_count": 13,
   "id": "f0e25a82",
   "metadata": {},
   "outputs": [
    {
     "data": {
      "text/html": [
       "<div>\n",
       "<style scoped>\n",
       "    .dataframe tbody tr th:only-of-type {\n",
       "        vertical-align: middle;\n",
       "    }\n",
       "\n",
       "    .dataframe tbody tr th {\n",
       "        vertical-align: top;\n",
       "    }\n",
       "\n",
       "    .dataframe thead th {\n",
       "        text-align: right;\n",
       "    }\n",
       "</style>\n",
       "<table border=\"1\" class=\"dataframe\">\n",
       "  <thead>\n",
       "    <tr style=\"text-align: right;\">\n",
       "      <th></th>\n",
       "      <th>Model</th>\n",
       "      <th>Exactitud</th>\n",
       "      <th>Tiempo de entrenamiento (sec)</th>\n",
       "    </tr>\n",
       "  </thead>\n",
       "  <tbody>\n",
       "    <tr>\n",
       "      <th>0</th>\n",
       "      <td>Random Forest</td>\n",
       "      <td>0.978744</td>\n",
       "      <td>8.13</td>\n",
       "    </tr>\n",
       "    <tr>\n",
       "      <th>1</th>\n",
       "      <td>ComplementNB</td>\n",
       "      <td>0.978744</td>\n",
       "      <td>0.02</td>\n",
       "    </tr>\n",
       "    <tr>\n",
       "      <th>2</th>\n",
       "      <td>MultinomialNB</td>\n",
       "      <td>0.977778</td>\n",
       "      <td>0.03</td>\n",
       "    </tr>\n",
       "    <tr>\n",
       "      <th>3</th>\n",
       "      <td>Logistic Regr.</td>\n",
       "      <td>0.976812</td>\n",
       "      <td>0.94</td>\n",
       "    </tr>\n",
       "    <tr>\n",
       "      <th>4</th>\n",
       "      <td>XGBoost</td>\n",
       "      <td>0.970048</td>\n",
       "      <td>7.00</td>\n",
       "    </tr>\n",
       "    <tr>\n",
       "      <th>5</th>\n",
       "      <td>SVM (RBF)</td>\n",
       "      <td>0.969082</td>\n",
       "      <td>4.62</td>\n",
       "    </tr>\n",
       "    <tr>\n",
       "      <th>6</th>\n",
       "      <td>SVM (Linear)</td>\n",
       "      <td>0.967150</td>\n",
       "      <td>0.27</td>\n",
       "    </tr>\n",
       "    <tr>\n",
       "      <th>7</th>\n",
       "      <td>Gradient Boosting</td>\n",
       "      <td>0.961353</td>\n",
       "      <td>34.35</td>\n",
       "    </tr>\n",
       "    <tr>\n",
       "      <th>8</th>\n",
       "      <td>Decision Tree</td>\n",
       "      <td>0.937198</td>\n",
       "      <td>1.48</td>\n",
       "    </tr>\n",
       "    <tr>\n",
       "      <th>9</th>\n",
       "      <td>BernoulliNB</td>\n",
       "      <td>0.845411</td>\n",
       "      <td>0.02</td>\n",
       "    </tr>\n",
       "    <tr>\n",
       "      <th>10</th>\n",
       "      <td>KNN</td>\n",
       "      <td>0.844444</td>\n",
       "      <td>0.01</td>\n",
       "    </tr>\n",
       "  </tbody>\n",
       "</table>\n",
       "</div>"
      ],
      "text/plain": [
       "                Model  Exactitud  Tiempo de entrenamiento (sec)\n",
       "0       Random Forest   0.978744                           8.13\n",
       "1        ComplementNB   0.978744                           0.02\n",
       "2       MultinomialNB   0.977778                           0.03\n",
       "3      Logistic Regr.   0.976812                           0.94\n",
       "4             XGBoost   0.970048                           7.00\n",
       "5           SVM (RBF)   0.969082                           4.62\n",
       "6        SVM (Linear)   0.967150                           0.27\n",
       "7   Gradient Boosting   0.961353                          34.35\n",
       "8       Decision Tree   0.937198                           1.48\n",
       "9         BernoulliNB   0.845411                           0.02\n",
       "10                KNN   0.844444                           0.01"
      ]
     },
     "execution_count": 13,
     "metadata": {},
     "output_type": "execute_result"
    }
   ],
   "source": [
    "models_acc = []\n",
    "for name, model in models.items():\n",
    "    models_acc.append([name, model[\"model\"].score(X_test, y_test),model[\"perf\"]])\n",
    "    df_acc = pd.DataFrame(models_acc)\n",
    "df_acc.columns = ['Model', 'Exactitud', 'Tiempo de entrenamiento (sec)']\n",
    "df_acc.sort_values(by = 'Exactitud', ascending = False, inplace=True)\n",
    "df_acc.reset_index(drop = True, inplace=True)\n",
    "df_acc"
   ]
  },
  {
   "cell_type": "code",
   "execution_count": 14,
   "id": "968560cf",
   "metadata": {},
   "outputs": [
    {
     "name": "stdout",
     "output_type": "stream",
     "text": [
      "Tuned Hpyerparameters : {'alpha': 0.2, 'fit_prior': False}\n",
      "Exactitud : 0.9792074841257323\n"
     ]
    },
    {
     "data": {
      "text/html": [
       "<div>\n",
       "<style scoped>\n",
       "    .dataframe tbody tr th:only-of-type {\n",
       "        vertical-align: middle;\n",
       "    }\n",
       "\n",
       "    .dataframe tbody tr th {\n",
       "        vertical-align: top;\n",
       "    }\n",
       "\n",
       "    .dataframe thead th {\n",
       "        text-align: right;\n",
       "    }\n",
       "</style>\n",
       "<table border=\"1\" class=\"dataframe\">\n",
       "  <thead>\n",
       "    <tr style=\"text-align: right;\">\n",
       "      <th></th>\n",
       "      <th>params</th>\n",
       "      <th>mean_test_score</th>\n",
       "    </tr>\n",
       "  </thead>\n",
       "  <tbody>\n",
       "    <tr>\n",
       "      <th>1</th>\n",
       "      <td>{'alpha': 0.2, 'fit_prior': False}</td>\n",
       "      <td>0.979207</td>\n",
       "    </tr>\n",
       "    <tr>\n",
       "      <th>3</th>\n",
       "      <td>{'alpha': 1, 'fit_prior': False}</td>\n",
       "      <td>0.977999</td>\n",
       "    </tr>\n",
       "    <tr>\n",
       "      <th>5</th>\n",
       "      <td>{'alpha': 2, 'fit_prior': False}</td>\n",
       "      <td>0.977997</td>\n",
       "    </tr>\n",
       "    <tr>\n",
       "      <th>2</th>\n",
       "      <td>{'alpha': 1, 'fit_prior': True}</td>\n",
       "      <td>0.977273</td>\n",
       "    </tr>\n",
       "    <tr>\n",
       "      <th>0</th>\n",
       "      <td>{'alpha': 0.2, 'fit_prior': True}</td>\n",
       "      <td>0.976789</td>\n",
       "    </tr>\n",
       "    <tr>\n",
       "      <th>4</th>\n",
       "      <td>{'alpha': 2, 'fit_prior': True}</td>\n",
       "      <td>0.973887</td>\n",
       "    </tr>\n",
       "    <tr>\n",
       "      <th>7</th>\n",
       "      <td>{'alpha': 5, 'fit_prior': False}</td>\n",
       "      <td>0.964458</td>\n",
       "    </tr>\n",
       "    <tr>\n",
       "      <th>6</th>\n",
       "      <td>{'alpha': 5, 'fit_prior': True}</td>\n",
       "      <td>0.956963</td>\n",
       "    </tr>\n",
       "    <tr>\n",
       "      <th>9</th>\n",
       "      <td>{'alpha': 10, 'fit_prior': False}</td>\n",
       "      <td>0.945599</td>\n",
       "    </tr>\n",
       "    <tr>\n",
       "      <th>8</th>\n",
       "      <td>{'alpha': 10, 'fit_prior': True}</td>\n",
       "      <td>0.937619</td>\n",
       "    </tr>\n",
       "  </tbody>\n",
       "</table>\n",
       "</div>"
      ],
      "text/plain": [
       "                               params  mean_test_score\n",
       "1  {'alpha': 0.2, 'fit_prior': False}         0.979207\n",
       "3    {'alpha': 1, 'fit_prior': False}         0.977999\n",
       "5    {'alpha': 2, 'fit_prior': False}         0.977997\n",
       "2     {'alpha': 1, 'fit_prior': True}         0.977273\n",
       "0   {'alpha': 0.2, 'fit_prior': True}         0.976789\n",
       "4     {'alpha': 2, 'fit_prior': True}         0.973887\n",
       "7    {'alpha': 5, 'fit_prior': False}         0.964458\n",
       "6     {'alpha': 5, 'fit_prior': True}         0.956963\n",
       "9   {'alpha': 10, 'fit_prior': False}         0.945599\n",
       "8    {'alpha': 10, 'fit_prior': True}         0.937619"
      ]
     },
     "execution_count": 14,
     "metadata": {},
     "output_type": "execute_result"
    }
   ],
   "source": [
    "# Busca el mejor hyperparameter con GridSearchCV\n",
    "from sklearn.naive_bayes import MultinomialNB\n",
    "from sklearn.model_selection import GridSearchCV\n",
    "parameters = {\"alpha\": [0.2,1,2,5,10], \"fit_prior\": [True, False]}\n",
    "\n",
    "grid = GridSearchCV(MultinomialNB(), param_grid=parameters)\n",
    "grid.fit(X_train,y_train)\n",
    "\n",
    "print(\"Tuned Hpyerparameters :\",grid.best_params_)\n",
    "print(\"Exactitud :\",grid.best_score_)\n",
    "\n",
    "# Crea un DataFrame con el mejor Hyperparameters\n",
    "pd.DataFrame(grid.cv_results_)[['params','mean_test_score']]\\\n",
    "                               .sort_values(by=\"mean_test_score\", ascending=False)"
   ]
  },
  {
   "cell_type": "code",
   "execution_count": 15,
   "id": "62f34a39",
   "metadata": {},
   "outputs": [],
   "source": [
    "# Crea un modelo con hyperparameters\n",
    "from sklearn.naive_bayes import MultinomialNB\n",
    "alpha, fit_prior = grid.best_params_['alpha'], grid.best_params_['fit_prior']\n",
    "model = MultinomialNB(alpha = alpha)\n",
    "\n",
    "\n",
    "\n",
    "\n",
    "model.fit(X_train,y_train)\n",
    "y_pred = model.predict(X_test)\n",
    "\n"
   ]
  },
  {
   "cell_type": "code",
   "execution_count": 16,
   "id": "0cbfee8d",
   "metadata": {},
   "outputs": [
    {
     "name": "stdout",
     "output_type": "stream",
     "text": [
      "## Exactitud: 100%\n",
      "\n"
     ]
    }
   ],
   "source": [
    "from sklearn.metrics import classification_report, accuracy_score\n",
    "print(f'## Exactitud: {round(accuracy_score(y_test,y_pred))*100}%\\n')"
   ]
  },
  {
   "cell_type": "code",
   "execution_count": 17,
   "id": "4efff199",
   "metadata": {},
   "outputs": [
    {
     "data": {
      "image/png": "[encoded data removed]",
      "text/plain": [
       "<Figure size 432x432 with 1 Axes>"
      ]
     },
     "metadata": {},
     "output_type": "display_data"
    }
   ],
   "source": [
    "cmat = confusion_matrix(y_test, y_pred)\n",
    "plt.figure(figsize = (6, 6))\n",
    "sns.heatmap(cmat, annot = True, cmap = 'Paired', cbar = False, fmt=\"d\", xticklabels=['No Spam', 'Spam'], yticklabels=['No Spam', 'Spam']);"
   ]
  },
  {
   "cell_type": "code",
   "execution_count": 18,
   "id": "fe580c04",
   "metadata": {},
   "outputs": [],
   "source": [
    "def display_result(df, number=2):\n",
    "    for i in range(number):\n",
    "        msg = df['texto'].iloc[i]\n",
    "        label = df[\"etiqueta\"].iloc[i]\n",
    "        msg_vec = cv.transform([msg])\n",
    "        pred_label = model.predict(msg_vec)\n",
    "        print(f\"**Real: {label}, Prediccion: {pred_label[0]}**\")\n",
    "        print(f\"**E-Mail:** {msg}\")\n",
    "        print(\"_______________________________________________________________\")\n",
    "    \n",
    "\n"
   ]
  },
  {
   "cell_type": "code",
   "execution_count": 19,
   "id": "4b8a43f5",
   "metadata": {},
   "outputs": [
    {
     "name": "stdout",
     "output_type": "stream",
     "text": [
      "**Real: spam, Prediccion: spam**\n",
      "**E-Mail:** subject photoshop windows office cheap main trending abasements darer prudently fortuitous undergone lighthearted charm orinoco taster railroad affluent pornographic cuvier irvin parkhouse blameworthy chlorophyll robed diagrammatic fogarty clears bayda inconveniencing managing represented smartness hashish academies shareholders unload badness danielson pure caffein spaniard chargeable levin\n",
      "_______________________________________________________________\n",
      "**Real: spam, Prediccion: spam**\n",
      "**E-Mail:** subject looking medication best source difficult make material condition better best law easy enough ruin bad laws excuse found best simpliest site medication net perscription easy delivery private secure easy better see rightly pound week squint million got anything ever want erection treatment pills anti depressant pills weight loss http splicings bombahakcx com knowledge human power synonymous high quality stuff low rates moneyback guarantee god nature sufficeth unto wise hath need author\n",
      "_______________________________________________________________\n",
      "**Real: ham, Prediccion: ham**\n",
      "**E-Mail:** subject enron methanol meter follow note gave monday preliminary flow data provided daren please override pop daily volume presently zero reflect daily activity obtain gas control change needed asap economics purposes\n",
      "_______________________________________________________________\n",
      "**Real: ham, Prediccion: ham**\n",
      "**E-Mail:** subject hpl nom january see attached file hplnol xls hplnol xls\n",
      "_______________________________________________________________\n"
     ]
    }
   ],
   "source": [
    "df_spam = df[df['etiqueta'] == 'spam']\n",
    "df_ham = df[df['etiqueta'] == 'ham']\n",
    "display_result(df_spam)\n",
    "display_result(df_ham)"
   ]
  },
  {
   "cell_type": "code",
   "execution_count": 20,
   "id": "44b72345",
   "metadata": {},
   "outputs": [],
   "source": [
    "from keras.models import Sequential\n",
    "from keras import layers\n",
    "\n",
    "input_dim = X_train.shape[1]  # Numero de características\n",
    "\n",
    "model_red = Sequential()\n",
    "model_red.add(layers.Dense(10, input_dim=input_dim, activation='relu'))\n",
    "model_red.add(layers.Dense(1, activation='sigmoid'))"
   ]
  },
  {
   "cell_type": "code",
   "execution_count": 21,
   "id": "feef125b",
   "metadata": {},
   "outputs": [
    {
     "name": "stdout",
     "output_type": "stream",
     "text": [
      "Model: \"sequential\"\n",
      "_________________________________________________________________\n",
      "Layer (type)                 Output Shape              Param #   \n",
      "=================================================================\n",
      "dense (Dense)                (None, 10)                455960    \n",
      "_________________________________________________________________\n",
      "dense_1 (Dense)              (None, 1)                 11        \n",
      "=================================================================\n",
      "Total params: 455,971\n",
      "Trainable params: 455,971\n",
      "Non-trainable params: 0\n",
      "_________________________________________________________________\n"
     ]
    }
   ],
   "source": [
    "model_red.compile(loss='binary_crossentropy', \n",
    "              optimizer='adam', \n",
    "              metrics=['accuracy'])\n",
    "model_red.summary()"
   ]
  },
  {
   "cell_type": "code",
   "execution_count": 22,
   "id": "95fb07f2",
   "metadata": {},
   "outputs": [],
   "source": [
    "df_spam.to_csv('Dataset/leidos_spam.csv', sep='\\t')"
   ]
  }
 ],
 "metadata": {
  "kernelspec": {
   "display_name": "Python 3",
   "language": "python",
   "name": "python3"
  },
  "language_info": {
   "codemirror_mode": {
    "name": "ipython",
    "version": 3
   },
   "file_extension": ".py",
   "mimetype": "text/x-python",
   "name": "python",
   "nbconvert_exporter": "python",
   "pygments_lexer": "ipython3",
   "version": "3.8.8"
  }
 },
 "nbformat": 4,
 "nbformat_minor": 5
}
